{
 "cells": [
  {
   "cell_type": "code",
   "execution_count": 1,
   "metadata": {
    "collapsed": true,
    "ExecuteTime": {
     "start_time": "2023-04-02T22:05:44.921223Z",
     "end_time": "2023-04-02T22:05:46.713688Z"
    }
   },
   "outputs": [],
   "source": [
    "import pandas as pd\n",
    "import sqlite3\n",
    "import gdown\n",
    "import os.path\n",
    "import csv"
   ]
  },
  {
   "cell_type": "code",
   "execution_count": 3,
   "outputs": [],
   "source": [
    "csv_file = 'tennis_data.csv'\n",
    "if not os.path.isfile(csv_file):\n",
    "    gdown.download(id='1k-aEbSDXA7SvyPoHD6AjFgfo79dfmkAI', output=csv_file)"
   ],
   "metadata": {
    "collapsed": false,
    "ExecuteTime": {
     "start_time": "2023-04-02T22:06:16.467365Z",
     "end_time": "2023-04-02T22:06:16.495702Z"
    }
   }
  },
  {
   "cell_type": "code",
   "execution_count": 2,
   "outputs": [],
   "source": [
    "df = pd.read_csv(csv_file)"
   ],
   "metadata": {
    "collapsed": false
   }
  },
  {
   "cell_type": "markdown",
   "source": [
    "First technique, all in a single table and from there we insert into other tables."
   ],
   "metadata": {
    "collapsed": false
   }
  },
  {
   "cell_type": "code",
   "execution_count": 4,
   "outputs": [],
   "source": [
    "with open(csv_file) as f:\n",
    "    rdr = csv.reader(f)\n",
    "    headers = next(rdr)\n",
    "    rows = []\n",
    "    for row in rdr:\n",
    "        rows.append(row)"
   ],
   "metadata": {
    "collapsed": false,
    "ExecuteTime": {
     "start_time": "2023-04-02T22:06:20.323873Z",
     "end_time": "2023-04-02T22:06:20.930842Z"
    }
   }
  },
  {
   "cell_type": "code",
   "execution_count": 5,
   "outputs": [],
   "source": [
    "connection = sqlite3.connect('db')\n",
    "cursor = connection.cursor()"
   ],
   "metadata": {
    "collapsed": false,
    "ExecuteTime": {
     "start_time": "2023-04-02T22:06:22.616130Z",
     "end_time": "2023-04-02T22:06:22.665507Z"
    }
   }
  },
  {
   "cell_type": "code",
   "execution_count": 5,
   "outputs": [],
   "source": [
    "query = \"\"\"\n",
    "INSERT INTO report (ATP, Location, Tournament, Date, Series, Court, Surface, Round, \"Best of\", Winner, Loser, WRank, LRank, WPts, LPts, W1, L1, W2, L2, W3, L3, W4, L4, W5, L5, Comment, pl1_flag, pl1_year_pro, pl1_weight, pl1_height, pl1_hand, pl2_flag, pl2_year_pro, pl2_weight, pl2_height, pl2_hand)\n",
    "VALUES (?, ?, ?, ?, ?, ?, ?, ?, ?, ?, ?, ?, ?, ?, ?, ?, ?, ?, ?, ?, ?, ?, ?, ?, ?, ?, ?, ?, ?, ?, ?, ?, ?, ?, ?, ?)\n",
    "\"\"\"\n",
    "cursor.executemany(query, rows)\n",
    "connection.commit()"
   ],
   "metadata": {
    "collapsed": false,
    "ExecuteTime": {
     "start_time": "2023-04-02T21:38:11.311726Z",
     "end_time": "2023-04-02T21:38:11.716028Z"
    }
   }
  },
  {
   "cell_type": "code",
   "execution_count": 6,
   "outputs": [],
   "source": [
    "query = \"\"\"\n",
    "INSERT INTO players (name, flag, year_pro, weight, height, hand)\n",
    "SELECT DISTINCT * FROM (\n",
    "SELECT Winner, pl1_flag, pl1_year_pro, pl1_weight, pl1_height, nullif(pl1_hand, '')\n",
    "FROM report\n",
    "UNION\n",
    "SELECT Loser, pl2_flag, pl2_year_pro, pl2_weight, pl2_height, nullif(pl2_hand, '')\n",
    "FROM report) t;\n",
    "\"\"\"\n",
    "cursor.execute(query)\n",
    "connection.commit()"
   ],
   "metadata": {
    "collapsed": false,
    "ExecuteTime": {
     "start_time": "2023-04-02T22:07:23.953097Z",
     "end_time": "2023-04-02T22:07:24.183900Z"
    }
   }
  },
  {
   "cell_type": "code",
   "execution_count": 8,
   "outputs": [],
   "source": [
    "query = \"\"\"\n",
    "INSERT INTO locations (name)\n",
    "SELECT DISTINCT Location\n",
    "FROM report;\n",
    "\"\"\"\n",
    "cursor.execute(query)\n",
    "connection.commit()"
   ],
   "metadata": {
    "collapsed": false,
    "ExecuteTime": {
     "start_time": "2023-04-02T21:56:23.579696Z",
     "end_time": "2023-04-02T21:56:23.618682Z"
    }
   }
  },
  {
   "cell_type": "code",
   "execution_count": 7,
   "outputs": [],
   "source": [
    "query = \"\"\"\n",
    "INSERT INTO tournaments (name)\n",
    "SELECT DISTINCT Tournament\n",
    "FROM report;\n",
    "\"\"\"\n",
    "cursor.execute(query)\n",
    "connection.commit()"
   ],
   "metadata": {
    "collapsed": false,
    "ExecuteTime": {
     "start_time": "2023-04-02T21:55:59.810261Z",
     "end_time": "2023-04-02T21:55:59.911610Z"
    }
   }
  },
  {
   "cell_type": "code",
   "execution_count": 7,
   "outputs": [
    {
     "ename": "IntegrityError",
     "evalue": "UNIQUE constraint failed: events.year, events.atp",
     "output_type": "error",
     "traceback": [
      "\u001B[1;31m---------------------------------------------------------------------------\u001B[0m",
      "\u001B[1;31mIntegrityError\u001B[0m                            Traceback (most recent call last)",
      "Cell \u001B[1;32mIn[7], line 10\u001B[0m\n\u001B[0;32m      1\u001B[0m query \u001B[38;5;241m=\u001B[39m \u001B[38;5;124m\"\"\"\u001B[39m\n\u001B[0;32m      2\u001B[0m \u001B[38;5;124mINSERT INTO events (year, atp, series, tournament_id)\u001B[39m\n\u001B[0;32m      3\u001B[0m \u001B[38;5;124mSELECT DISTINCT\u001B[39m\n\u001B[1;32m   (...)\u001B[0m\n\u001B[0;32m      8\u001B[0m \u001B[38;5;124mFROM report;\u001B[39m\n\u001B[0;32m      9\u001B[0m \u001B[38;5;124m\"\"\"\u001B[39m\n\u001B[1;32m---> 10\u001B[0m \u001B[43mcursor\u001B[49m\u001B[38;5;241;43m.\u001B[39;49m\u001B[43mexecute\u001B[49m\u001B[43m(\u001B[49m\u001B[43mquery\u001B[49m\u001B[43m)\u001B[49m\n\u001B[0;32m     11\u001B[0m connection\u001B[38;5;241m.\u001B[39mcommit()\n",
      "\u001B[1;31mIntegrityError\u001B[0m: UNIQUE constraint failed: events.year, events.atp"
     ]
    }
   ],
   "source": [
    "query = \"\"\"\n",
    "INSERT INTO events (year, atp, series, tournament_id)\n",
    "SELECT DISTINCT\n",
    "    cast(substr(Date, 7, 4) AS INTEGER),\n",
    "    ATP,\n",
    "    Series,\n",
    "    (SELECT id FROM tournaments WHERE name = Tournament)\n",
    "FROM report;\n",
    "\"\"\"\n",
    "cursor.execute(query)\n",
    "connection.commit()"
   ],
   "metadata": {
    "collapsed": false
   }
  },
  {
   "cell_type": "code",
   "execution_count": null,
   "outputs": [],
   "source": [],
   "metadata": {
    "collapsed": false
   }
  }
 ],
 "metadata": {
  "kernelspec": {
   "display_name": "Python 3",
   "language": "python",
   "name": "python3"
  },
  "language_info": {
   "codemirror_mode": {
    "name": "ipython",
    "version": 2
   },
   "file_extension": ".py",
   "mimetype": "text/x-python",
   "name": "python",
   "nbconvert_exporter": "python",
   "pygments_lexer": "ipython2",
   "version": "2.7.6"
  }
 },
 "nbformat": 4,
 "nbformat_minor": 0
}

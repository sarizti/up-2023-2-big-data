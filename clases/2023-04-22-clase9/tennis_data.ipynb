{
 "cells": [
  {
   "cell_type": "code",
   "execution_count": null,
   "metadata": {
    "collapsed": true,
    "ExecuteTime": {
     "start_time": "2023-04-22T08:11:58.179673Z",
     "end_time": "2023-04-22T08:12:00.685982Z"
    }
   },
   "outputs": [],
   "source": [
    "import pandas as pd\n",
    "import sqlite3\n",
    "import gdown\n",
    "import os.path\n",
    "import csv"
   ]
  },
  {
   "cell_type": "code",
   "execution_count": null,
   "outputs": [],
   "source": [
    "csv_file = 'tennis_data.csv'\n",
    "if not os.path.isfile(csv_file):\n",
    "    gdown.download(id='1k-aEbSDXA7SvyPoHD6AjFgfo79dfmkAI', output=csv_file)"
   ],
   "metadata": {
    "collapsed": false,
    "ExecuteTime": {
     "start_time": "2023-04-22T08:21:22.159731Z",
     "end_time": "2023-04-22T08:21:22.175471Z"
    }
   }
  },
  {
   "cell_type": "code",
   "execution_count": null,
   "outputs": [],
   "source": [
    "#df = pd.read_csv(csv_file)"
   ],
   "metadata": {
    "collapsed": false
   }
  },
  {
   "cell_type": "markdown",
   "source": [
    "First technique, all in a single table and from there we insert into other tables."
   ],
   "metadata": {
    "collapsed": false
   }
  },
  {
   "cell_type": "code",
   "execution_count": null,
   "outputs": [],
   "source": [
    "with open(csv_file) as f:\n",
    "    rdr = csv.reader(f)\n",
    "    headers = next(rdr)\n",
    "    rows = []\n",
    "    for row in rdr:\n",
    "        rows.append(row)"
   ],
   "metadata": {
    "collapsed": false,
    "ExecuteTime": {
     "start_time": "2023-04-22T08:21:26.830543Z",
     "end_time": "2023-04-22T08:21:27.063515Z"
    }
   }
  },
  {
   "cell_type": "code",
   "execution_count": null,
   "outputs": [],
   "source": [
    "connection = sqlite3.connect('tennis_data.db')\n",
    "cursor = connection.cursor()"
   ],
   "metadata": {
    "collapsed": false,
    "ExecuteTime": {
     "start_time": "2023-04-22T08:21:30.213328Z",
     "end_time": "2023-04-22T08:21:30.222885Z"
    }
   }
  },
  {
   "cell_type": "code",
   "execution_count": null,
   "outputs": [],
   "source": [
    "query = \"\"\"\n",
    "INSERT INTO report (ATP, Location, Tournament, Date, Series, Court, Surface, Round, \"Best of\", Winner, Loser, WRank, LRank, WPts, LPts, W1, L1, W2, L2, W3, L3, W4, L4, W5, L5, Comment, pl1_flag, pl1_year_pro, pl1_weight, pl1_height, pl1_hand, pl2_flag, pl2_year_pro, pl2_weight, pl2_height, pl2_hand)\n",
    "VALUES (?, ?, ?, ?, ?, ?, ?, ?, ?, ?, ?, ?, ?, ?, ?, ?, ?, ?, ?, ?, ?, ?, ?, ?, ?, ?, ?, ?, ?, ?, ?, ?, ?, ?, ?, ?)\n",
    "\"\"\"\n",
    "cursor.executemany(query, rows)\n",
    "connection.commit()"
   ],
   "metadata": {
    "collapsed": false,
    "ExecuteTime": {
     "start_time": "2023-04-22T08:22:54.737440Z",
     "end_time": "2023-04-22T08:22:54.935231Z"
    }
   }
  },
  {
   "cell_type": "markdown",
   "source": [
    "## Glitches\n",
    "\n",
    "The CSV file contains some glitches that complicate the relationships between the chosen table structure. Before starting to feed the data to the tables lets cleanup the data first\n"
   ],
   "metadata": {
    "collapsed": false
   }
  },
  {
   "cell_type": "code",
   "execution_count": null,
   "outputs": [],
   "source": [
    "values = [\n",
    "    {'color': \"green\"},\n",
    "    {'color': \"red\"},\n",
    "    {'color': \"blue\"},\n",
    "]\n",
    "\n",
    "query = \"\"\"\n",
    "INSERT INTO tmp_colors (color)\n",
    "VALUES (:color)\n",
    "\"\"\"\n",
    "cursor.executemany(query, values)\n",
    "connection.commit()"
   ],
   "metadata": {
    "collapsed": false
   }
  }
 ],
 "metadata": {
  "kernelspec": {
   "display_name": "Python 3",
   "language": "python",
   "name": "python3"
  },
  "language_info": {
   "codemirror_mode": {
    "name": "ipython",
    "version": 2
   },
   "file_extension": ".py",
   "mimetype": "text/x-python",
   "name": "python",
   "nbconvert_exporter": "python",
   "pygments_lexer": "ipython2",
   "version": "2.7.6"
  }
 },
 "nbformat": 4,
 "nbformat_minor": 0
}

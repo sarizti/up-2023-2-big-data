{
 "cells": [
  {
   "cell_type": "code",
   "execution_count": 1,
   "metadata": {
    "collapsed": true,
    "ExecuteTime": {
     "start_time": "2023-04-01T08:50:07.826607Z",
     "end_time": "2023-04-01T08:50:08.716390Z"
    }
   },
   "outputs": [],
   "source": [
    "import sqlite3\n",
    "import pandas as pd"
   ]
  },
  {
   "cell_type": "code",
   "execution_count": 2,
   "outputs": [],
   "source": [
    "connection = sqlite3.connect('db.sqlite3')\n",
    "cursor = connection.cursor()"
   ],
   "metadata": {
    "collapsed": false,
    "ExecuteTime": {
     "start_time": "2023-04-01T08:50:08.719485Z",
     "end_time": "2023-04-01T08:50:08.722494Z"
    }
   }
  },
  {
   "cell_type": "code",
   "execution_count": 7,
   "outputs": [],
   "source": [
    "def query_to_df(query):\n",
    "    cursor.execute(query)\n",
    "    rows = cursor.fetchall()\n",
    "    columns = [d[0] for d in cursor.description]\n",
    "    return pd.DataFrame(rows, columns=columns)"
   ],
   "metadata": {
    "collapsed": false,
    "ExecuteTime": {
     "start_time": "2023-04-01T09:05:27.559939Z",
     "end_time": "2023-04-01T09:05:27.568957Z"
    }
   }
  },
  {
   "cell_type": "code",
   "execution_count": 11,
   "outputs": [
    {
     "data": {
      "text/plain": "             Estudiante  Calificación Semestre              Professor  \\\n0         andrea escoto            93   2023-2  Mtro. Santiago Arizti   \n1          Andrea Perez            82   2023-2  Mtro. Santiago Arizti   \n2          Raul Estrada            94   2023-2  Mtro. Santiago Arizti   \n3   Natalia Villalpando            93   2023-2  Mtro. Santiago Arizti   \n4          Eduardo Díaz            97   2023-2  Mtro. Santiago Arizti   \n5  Juan Manuel Valdivia            93   2023-2  Mtro. Santiago Arizti   \n6         judith macias            73   2023-2  Mtro. Santiago Arizti   \n7         Javier Orozco            93   2023-2  Mtro. Santiago Arizti   \n8        Armando Arroyo            98   2023-2  Mtro. Santiago Arizti   \n\n             Clase  \n0  Big Data (ECID)  \n1  Big Data (ECID)  \n2  Big Data (ECID)  \n3  Big Data (ECID)  \n4  Big Data (ECID)  \n5  Big Data (ECID)  \n6  Big Data (ECID)  \n7  Big Data (ECID)  \n8  Big Data (ECID)  ",
      "text/html": "<div>\n<style scoped>\n    .dataframe tbody tr th:only-of-type {\n        vertical-align: middle;\n    }\n\n    .dataframe tbody tr th {\n        vertical-align: top;\n    }\n\n    .dataframe thead th {\n        text-align: right;\n    }\n</style>\n<table border=\"1\" class=\"dataframe\">\n  <thead>\n    <tr style=\"text-align: right;\">\n      <th></th>\n      <th>Estudiante</th>\n      <th>Calificación</th>\n      <th>Semestre</th>\n      <th>Professor</th>\n      <th>Clase</th>\n    </tr>\n  </thead>\n  <tbody>\n    <tr>\n      <th>0</th>\n      <td>andrea escoto</td>\n      <td>93</td>\n      <td>2023-2</td>\n      <td>Mtro. Santiago Arizti</td>\n      <td>Big Data (ECID)</td>\n    </tr>\n    <tr>\n      <th>1</th>\n      <td>Andrea Perez</td>\n      <td>82</td>\n      <td>2023-2</td>\n      <td>Mtro. Santiago Arizti</td>\n      <td>Big Data (ECID)</td>\n    </tr>\n    <tr>\n      <th>2</th>\n      <td>Raul Estrada</td>\n      <td>94</td>\n      <td>2023-2</td>\n      <td>Mtro. Santiago Arizti</td>\n      <td>Big Data (ECID)</td>\n    </tr>\n    <tr>\n      <th>3</th>\n      <td>Natalia Villalpando</td>\n      <td>93</td>\n      <td>2023-2</td>\n      <td>Mtro. Santiago Arizti</td>\n      <td>Big Data (ECID)</td>\n    </tr>\n    <tr>\n      <th>4</th>\n      <td>Eduardo Díaz</td>\n      <td>97</td>\n      <td>2023-2</td>\n      <td>Mtro. Santiago Arizti</td>\n      <td>Big Data (ECID)</td>\n    </tr>\n    <tr>\n      <th>5</th>\n      <td>Juan Manuel Valdivia</td>\n      <td>93</td>\n      <td>2023-2</td>\n      <td>Mtro. Santiago Arizti</td>\n      <td>Big Data (ECID)</td>\n    </tr>\n    <tr>\n      <th>6</th>\n      <td>judith macias</td>\n      <td>73</td>\n      <td>2023-2</td>\n      <td>Mtro. Santiago Arizti</td>\n      <td>Big Data (ECID)</td>\n    </tr>\n    <tr>\n      <th>7</th>\n      <td>Javier Orozco</td>\n      <td>93</td>\n      <td>2023-2</td>\n      <td>Mtro. Santiago Arizti</td>\n      <td>Big Data (ECID)</td>\n    </tr>\n    <tr>\n      <th>8</th>\n      <td>Armando Arroyo</td>\n      <td>98</td>\n      <td>2023-2</td>\n      <td>Mtro. Santiago Arizti</td>\n      <td>Big Data (ECID)</td>\n    </tr>\n  </tbody>\n</table>\n</div>"
     },
     "execution_count": 11,
     "metadata": {},
     "output_type": "execute_result"
    }
   ],
   "source": [
    "df = query_to_df(\"\"\"\n",
    "    SELECT\n",
    "        students.name || ' ' || students.last_name AS \"Estudiante\",\n",
    "        enrollments.grade AS \"Calificación\",\n",
    "        courses.semester AS \"Semestre\",\n",
    "        CASE teachers.degree\n",
    "            WHEN 'doctorate' THEN 'Dr.'\n",
    "            WHEN 'masters' THEN 'Mtro.'\n",
    "            ELSE 'Lic.'\n",
    "        END || ' ' || teachers.name || ' ' || teachers.last_name\n",
    "            AS \"Professor\",\n",
    "        classes.name || ' (' || classes.school || ')' AS \"Clase\"\n",
    "    FROM enrollments\n",
    "    INNER JOIN students ON enrollments.student_id = students.id\n",
    "    INNER JOIN courses ON enrollments.course_id = courses.id\n",
    "    INNER JOIN teachers ON courses.teacher_id = teachers.id\n",
    "    INNER JOIN classes ON courses.class_id = classes.id;\n",
    "    \"\"\")\n",
    "df"
   ],
   "metadata": {
    "collapsed": false,
    "ExecuteTime": {
     "start_time": "2023-04-01T09:08:48.602518Z",
     "end_time": "2023-04-01T09:08:48.638661Z"
    }
   }
  },
  {
   "cell_type": "code",
   "execution_count": 6,
   "outputs": [],
   "source": [],
   "metadata": {
    "collapsed": false,
    "ExecuteTime": {
     "start_time": "2023-04-01T09:05:04.306360Z",
     "end_time": "2023-04-01T09:05:04.317052Z"
    }
   }
  },
  {
   "cell_type": "code",
   "execution_count": null,
   "outputs": [],
   "source": [],
   "metadata": {
    "collapsed": false
   }
  }
 ],
 "metadata": {
  "kernelspec": {
   "display_name": "Python 3",
   "language": "python",
   "name": "python3"
  },
  "language_info": {
   "codemirror_mode": {
    "name": "ipython",
    "version": 2
   },
   "file_extension": ".py",
   "mimetype": "text/x-python",
   "name": "python",
   "nbconvert_exporter": "python",
   "pygments_lexer": "ipython2",
   "version": "2.7.6"
  }
 },
 "nbformat": 4,
 "nbformat_minor": 0
}

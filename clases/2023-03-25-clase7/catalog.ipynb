{
 "cells": [
  {
   "cell_type": "markdown",
   "source": [
    "# Big Data\n",
    "\n",
    "Using Sqlite3 with Python and Jupyter Notebooks in PyCharm.\n",
    "\n",
    "Requirements:\n",
    "\n",
    "- have `python3` available in your computer. If not available yet, install from <https://python.org>\n",
    "- make sure `pip` is in its latest version `python3 -m pip install --upgrade pip`.\n",
    "- make sure you have `pipenv` to manage dependencies `python3 -m pip install --upgrade pipenv`.\n",
    "- create a folder in your computer and open it with PyCharm.\n",
    "- in the terminal run `pipenv shell`, this creates a `Pipenv` file that remembers your dependencies.\n",
    "- in PyCharm go to *settings* > *project* > *python interpreter* and add the one created by pipenv.\n",
    "- Now your project should be using the python environment that we just configured.\n",
    "\n",
    "For this step you need to already have installed `gdown` with\n",
    "\n",
    "```shell\n",
    "pipenv install gdown\n",
    "```\n",
    "\n",
    "And `pandas` with\n",
    "\n",
    "```shell\n",
    "pipenv install pandas\n",
    "```\n",
    "\n",
    "Of course, you need to also have installed jupyter\n",
    "\n",
    "```shell\n",
    "pipenv install jupyter\n",
    "```\n",
    "\n",
    "The library `sqlite3` is bundled in with python."
   ],
   "metadata": {
    "collapsed": false
   }
  },
  {
   "cell_type": "code",
   "execution_count": 2,
   "metadata": {
    "collapsed": true
   },
   "outputs": [],
   "source": [
    "import gdown\n",
    "import pandas as pd\n",
    "import sqlite3\n",
    "import os"
   ]
  },
  {
   "cell_type": "markdown",
   "source": [
    "Let's now download the 'catalog' database found in Google Drive.\n",
    "\n"
   ],
   "metadata": {
    "collapsed": false
   }
  },
  {
   "cell_type": "code",
   "execution_count": 3,
   "outputs": [],
   "source": [
    "output = 'catalog.sqlite3'\n",
    "if not os.path.isfile(output):\n",
    "    # this is python\n",
    "    gdown.download(id='1d7O3-wOTt9tRtBUL4ZMZeEt2ZBMMGsJq', output=output)"
   ],
   "metadata": {
    "collapsed": false
   }
  },
  {
   "cell_type": "code",
   "execution_count": 4,
   "outputs": [],
   "source": [
    "connection = sqlite3.connect('catalog.sqlite3')\n",
    "cursor = connection.cursor()"
   ],
   "metadata": {
    "collapsed": false
   }
  },
  {
   "cell_type": "code",
   "execution_count": 15,
   "outputs": [
    {
     "data": {
      "text/plain": "                                                                              title  \\\nid                                                                                    \n99faf27ca064aa9f7122df09597fc884             Monitor Dell E2016HV LED 19.5'', Negro   \nf05244430b6a3a817f0cb75f300c7cdb  Mouse Logitech Óptico Pebble M350, Inalámbrico...   \n25133cc242eeec792434b4117f9d1d4d  Memoria RAM Lenovo 4ZC7A08709 DDR4, 2933MHz, 32GB   \n31edad7183170c7ece7658f2485ffe0d  Laptop Gamer Lenovo Legion 5 15ITH6 15.6\" Full...   \nb4208827ea6907f5a7dc8cec4fba9034  Tarjeta Madre Gigabyte Micro ATX B560M DS3H V2...   \n23faeefcdf549e4958343146570bd8d7  Procesador AMD Ryzen 5 3600, S-AM4, 3.60GHz, 3...   \n313b2cdce3a17b7e13f7c87ff4c29a9b  SSD Western Digital WD Green, 1TB, SATA III, 2...   \nd255d6d2694e3466a6fbffe9ddad8152  Laptop Lenovo ThinkPad L14 G1 14\" HD, AMD Ryze...   \nb7ff043cbff7ce169459d2adbe149d5a  Router Linksys con Sistema de Red Wi-Fi en Mal...   \nda94b9bc82105ea0ef365ae60bfde5ed     No Break Tripp Lite OMNISMART700M, 450W, 700VA   \n\n                                               sku    price  stock  \\\nid                                                                   \n99faf27ca064aa9f7122df09597fc884           E2016HV   1639.0   6136   \nf05244430b6a3a817f0cb75f300c7cdb        910-005770    413.0    121   \n25133cc242eeec792434b4117f9d1d4d        4ZC7A08709   8539.0    138   \n31edad7183170c7ece7658f2485ffe0d        82JK00J4LM  22749.0     88   \nb4208827ea6907f5a7dc8cec4fba9034     B560M DS3H V2   1549.0   1231   \n23faeefcdf549e4958343146570bd8d7  100-100000031BOX   1959.0    186   \n313b2cdce3a17b7e13f7c87ff4c29a9b       WDS100T3G0A   1079.0    174   \nd255d6d2694e3466a6fbffe9ddad8152        20U6S44C00   8879.0    196   \nb7ff043cbff7ce169459d2adbe149d5a           MX10600   9669.0     34   \nda94b9bc82105ea0ef365ae60bfde5ed     OMNISMART700M   1539.0   2018   \n\n                                  created_at  \\\nid                                             \n99faf27ca064aa9f7122df09597fc884  2016-10-14   \nf05244430b6a3a817f0cb75f300c7cdb  2020-04-03   \n25133cc242eeec792434b4117f9d1d4d  2019-10-01   \n31edad7183170c7ece7658f2485ffe0d  2021-12-27   \nb4208827ea6907f5a7dc8cec4fba9034  2021-11-19   \n23faeefcdf549e4958343146570bd8d7  2019-07-16   \n313b2cdce3a17b7e13f7c87ff4c29a9b  2022-03-01   \nd255d6d2694e3466a6fbffe9ddad8152  2022-01-24   \nb7ff043cbff7ce169459d2adbe149d5a  2020-10-21   \nda94b9bc82105ea0ef365ae60bfde5ed  2016-07-13   \n\n                                                                       pic  \\\nid                                                                           \n99faf27ca064aa9f7122df09597fc884                     CP-DELL-E2016HV-1.jpg   \nf05244430b6a3a817f0cb75f300c7cdb              CP-LOGITECH-910-005770-1.jpg   \n25133cc242eeec792434b4117f9d1d4d                CP-LENOVO-4ZC7A08709-1.jpg   \n31edad7183170c7ece7658f2485ffe0d           CP-LENOVO-82JK00J4LM-7d4fa4.jpg   \nb4208827ea6907f5a7dc8cec4fba9034        CP-GIGABYTE-B560MDS3HV2-c80b61.jpg   \n23faeefcdf549e4958343146570bd8d7             CP-AMD-100-100000031BOX-1.jpg   \n313b2cdce3a17b7e13f7c87ff4c29a9b  CP-WESTERNDIGITAL-WDS100T3G0A-ad092f.jpg   \nd255d6d2694e3466a6fbffe9ddad8152                CP-LENOVO-20U6S44C00-1.jpg   \nb7ff043cbff7ce169459d2adbe149d5a                  CP-LINKSYS-MX10600-1.jpg   \nda94b9bc82105ea0ef365ae60bfde5ed          CP-TRIPPLITE-OMNISMART700M-1.jpg   \n\n                                                   manufacturer_id  relevance  \nid                                                                             \n99faf27ca064aa9f7122df09597fc884  04c74ad625352f7093356e441ef69610    17.5915  \nf05244430b6a3a817f0cb75f300c7cdb  43ee0a7ff98dae4ebf41c6bec8a4ae0e    17.0244  \n25133cc242eeec792434b4117f9d1d4d  685903ef83f7a7c8a165f77eed160d9e    16.2542  \n31edad7183170c7ece7658f2485ffe0d  685903ef83f7a7c8a165f77eed160d9e    15.3039  \nb4208827ea6907f5a7dc8cec4fba9034  1ec2744b3a948fae2382b1ec7bdb962b    15.1835  \n23faeefcdf549e4958343146570bd8d7  48af4341f745163f945fa838eeabb062    15.0780  \n313b2cdce3a17b7e13f7c87ff4c29a9b  67243b4384dbf4c379f1b7ea112742bd    14.9972  \nd255d6d2694e3466a6fbffe9ddad8152  685903ef83f7a7c8a165f77eed160d9e    14.6840  \nb7ff043cbff7ce169459d2adbe149d5a  ddf0667a490ead5d392b370e557566c7    14.5142  \nda94b9bc82105ea0ef365ae60bfde5ed  5aeae8ab077c5bcafaf6d60dcd5130b5    14.4327  ",
      "text/html": "<div>\n<style scoped>\n    .dataframe tbody tr th:only-of-type {\n        vertical-align: middle;\n    }\n\n    .dataframe tbody tr th {\n        vertical-align: top;\n    }\n\n    .dataframe thead th {\n        text-align: right;\n    }\n</style>\n<table border=\"1\" class=\"dataframe\">\n  <thead>\n    <tr style=\"text-align: right;\">\n      <th></th>\n      <th>title</th>\n      <th>sku</th>\n      <th>price</th>\n      <th>stock</th>\n      <th>created_at</th>\n      <th>pic</th>\n      <th>manufacturer_id</th>\n      <th>relevance</th>\n    </tr>\n    <tr>\n      <th>id</th>\n      <th></th>\n      <th></th>\n      <th></th>\n      <th></th>\n      <th></th>\n      <th></th>\n      <th></th>\n      <th></th>\n    </tr>\n  </thead>\n  <tbody>\n    <tr>\n      <th>99faf27ca064aa9f7122df09597fc884</th>\n      <td>Monitor Dell E2016HV LED 19.5'', Negro</td>\n      <td>E2016HV</td>\n      <td>1639.0</td>\n      <td>6136</td>\n      <td>2016-10-14</td>\n      <td>CP-DELL-E2016HV-1.jpg</td>\n      <td>04c74ad625352f7093356e441ef69610</td>\n      <td>17.5915</td>\n    </tr>\n    <tr>\n      <th>f05244430b6a3a817f0cb75f300c7cdb</th>\n      <td>Mouse Logitech Óptico Pebble M350, Inalámbrico...</td>\n      <td>910-005770</td>\n      <td>413.0</td>\n      <td>121</td>\n      <td>2020-04-03</td>\n      <td>CP-LOGITECH-910-005770-1.jpg</td>\n      <td>43ee0a7ff98dae4ebf41c6bec8a4ae0e</td>\n      <td>17.0244</td>\n    </tr>\n    <tr>\n      <th>25133cc242eeec792434b4117f9d1d4d</th>\n      <td>Memoria RAM Lenovo 4ZC7A08709 DDR4, 2933MHz, 32GB</td>\n      <td>4ZC7A08709</td>\n      <td>8539.0</td>\n      <td>138</td>\n      <td>2019-10-01</td>\n      <td>CP-LENOVO-4ZC7A08709-1.jpg</td>\n      <td>685903ef83f7a7c8a165f77eed160d9e</td>\n      <td>16.2542</td>\n    </tr>\n    <tr>\n      <th>31edad7183170c7ece7658f2485ffe0d</th>\n      <td>Laptop Gamer Lenovo Legion 5 15ITH6 15.6\" Full...</td>\n      <td>82JK00J4LM</td>\n      <td>22749.0</td>\n      <td>88</td>\n      <td>2021-12-27</td>\n      <td>CP-LENOVO-82JK00J4LM-7d4fa4.jpg</td>\n      <td>685903ef83f7a7c8a165f77eed160d9e</td>\n      <td>15.3039</td>\n    </tr>\n    <tr>\n      <th>b4208827ea6907f5a7dc8cec4fba9034</th>\n      <td>Tarjeta Madre Gigabyte Micro ATX B560M DS3H V2...</td>\n      <td>B560M DS3H V2</td>\n      <td>1549.0</td>\n      <td>1231</td>\n      <td>2021-11-19</td>\n      <td>CP-GIGABYTE-B560MDS3HV2-c80b61.jpg</td>\n      <td>1ec2744b3a948fae2382b1ec7bdb962b</td>\n      <td>15.1835</td>\n    </tr>\n    <tr>\n      <th>23faeefcdf549e4958343146570bd8d7</th>\n      <td>Procesador AMD Ryzen 5 3600, S-AM4, 3.60GHz, 3...</td>\n      <td>100-100000031BOX</td>\n      <td>1959.0</td>\n      <td>186</td>\n      <td>2019-07-16</td>\n      <td>CP-AMD-100-100000031BOX-1.jpg</td>\n      <td>48af4341f745163f945fa838eeabb062</td>\n      <td>15.0780</td>\n    </tr>\n    <tr>\n      <th>313b2cdce3a17b7e13f7c87ff4c29a9b</th>\n      <td>SSD Western Digital WD Green, 1TB, SATA III, 2...</td>\n      <td>WDS100T3G0A</td>\n      <td>1079.0</td>\n      <td>174</td>\n      <td>2022-03-01</td>\n      <td>CP-WESTERNDIGITAL-WDS100T3G0A-ad092f.jpg</td>\n      <td>67243b4384dbf4c379f1b7ea112742bd</td>\n      <td>14.9972</td>\n    </tr>\n    <tr>\n      <th>d255d6d2694e3466a6fbffe9ddad8152</th>\n      <td>Laptop Lenovo ThinkPad L14 G1 14\" HD, AMD Ryze...</td>\n      <td>20U6S44C00</td>\n      <td>8879.0</td>\n      <td>196</td>\n      <td>2022-01-24</td>\n      <td>CP-LENOVO-20U6S44C00-1.jpg</td>\n      <td>685903ef83f7a7c8a165f77eed160d9e</td>\n      <td>14.6840</td>\n    </tr>\n    <tr>\n      <th>b7ff043cbff7ce169459d2adbe149d5a</th>\n      <td>Router Linksys con Sistema de Red Wi-Fi en Mal...</td>\n      <td>MX10600</td>\n      <td>9669.0</td>\n      <td>34</td>\n      <td>2020-10-21</td>\n      <td>CP-LINKSYS-MX10600-1.jpg</td>\n      <td>ddf0667a490ead5d392b370e557566c7</td>\n      <td>14.5142</td>\n    </tr>\n    <tr>\n      <th>da94b9bc82105ea0ef365ae60bfde5ed</th>\n      <td>No Break Tripp Lite OMNISMART700M, 450W, 700VA</td>\n      <td>OMNISMART700M</td>\n      <td>1539.0</td>\n      <td>2018</td>\n      <td>2016-07-13</td>\n      <td>CP-TRIPPLITE-OMNISMART700M-1.jpg</td>\n      <td>5aeae8ab077c5bcafaf6d60dcd5130b5</td>\n      <td>14.4327</td>\n    </tr>\n  </tbody>\n</table>\n</div>"
     },
     "execution_count": 15,
     "metadata": {},
     "output_type": "execute_result"
    }
   ],
   "source": [
    "query = \"\"\"\n",
    "    SELECT *\n",
    "    FROM articles as c\n",
    "    LIMIT 10\n",
    "    \"\"\"\n",
    "result = cursor.execute(query)\n",
    "rows = result.fetchall()\n",
    "columns = [d[0] for d in result.description]\n",
    "df = pd.DataFrame(rows, columns=columns).set_index('id')\n",
    "df"
   ],
   "metadata": {
    "collapsed": false
   }
  },
  {
   "cell_type": "code",
   "execution_count": 17,
   "outputs": [
    {
     "data": {
      "text/plain": "1718"
     },
     "execution_count": 17,
     "metadata": {},
     "output_type": "execute_result"
    }
   ],
   "source": [
    "query = \"SELECT count(*) FROM articles\"\n",
    "result = cursor.execute(query)\n",
    "count = result.fetchone()[0]\n",
    "count"
   ],
   "metadata": {
    "collapsed": false
   }
  },
  {
   "cell_type": "code",
   "execution_count": 30,
   "outputs": [
    {
     "data": {
      "text/plain": "1373"
     },
     "execution_count": 30,
     "metadata": {},
     "output_type": "execute_result"
    }
   ],
   "source": [
    "query = \"SELECT count(*) FROM categories\"\n",
    "result = cursor.execute(query)\n",
    "count = result.fetchone()[0]\n",
    "count"
   ],
   "metadata": {
    "collapsed": false
   }
  },
  {
   "cell_type": "code",
   "execution_count": 29,
   "outputs": [
    {
     "data": {
      "text/plain": "315"
     },
     "execution_count": 29,
     "metadata": {},
     "output_type": "execute_result"
    }
   ],
   "source": [
    "query = \"SELECT count(*) FROM manufacturers\"\n",
    "result = cursor.execute(query)\n",
    "count = result.fetchone()[0]\n",
    "count"
   ],
   "metadata": {
    "collapsed": false
   }
  },
  {
   "cell_type": "code",
   "execution_count": 41,
   "outputs": [
    {
     "data": {
      "text/plain": "                                                              title\nid                                                                 \n4fe3b27b891b7abasteo              Discos Duros Internos para Laptop\n4fe3b562005b2abasteo                       Memorias RAM para Laptop\n510ab14d0f515                              Disipadores para Laptops\n51df193b41de3                     Discos Duros Internos para Laptop\n58e298a1ecb1e                                  Lámparas para Laptop\n892193e38927e9514ecf96aee75ffa10             Cargadores para Laptop\n9c6e990954a487d7d45582c063d8d9a4              Candados para Laptops\nb138437686db9df7679b4f06a25dedfe                            Laptops\nc0f76673a512234802198bb1f1b9a846               Baterías para Laptop\ncccb0dc73359070a4269f780fe93ff53                            Laptops",
      "text/html": "<div>\n<style scoped>\n    .dataframe tbody tr th:only-of-type {\n        vertical-align: middle;\n    }\n\n    .dataframe tbody tr th {\n        vertical-align: top;\n    }\n\n    .dataframe thead th {\n        text-align: right;\n    }\n</style>\n<table border=\"1\" class=\"dataframe\">\n  <thead>\n    <tr style=\"text-align: right;\">\n      <th></th>\n      <th>title</th>\n    </tr>\n    <tr>\n      <th>id</th>\n      <th></th>\n    </tr>\n  </thead>\n  <tbody>\n    <tr>\n      <th>4fe3b27b891b7abasteo</th>\n      <td>Discos Duros Internos para Laptop</td>\n    </tr>\n    <tr>\n      <th>4fe3b562005b2abasteo</th>\n      <td>Memorias RAM para Laptop</td>\n    </tr>\n    <tr>\n      <th>510ab14d0f515</th>\n      <td>Disipadores para Laptops</td>\n    </tr>\n    <tr>\n      <th>51df193b41de3</th>\n      <td>Discos Duros Internos para Laptop</td>\n    </tr>\n    <tr>\n      <th>58e298a1ecb1e</th>\n      <td>Lámparas para Laptop</td>\n    </tr>\n    <tr>\n      <th>892193e38927e9514ecf96aee75ffa10</th>\n      <td>Cargadores para Laptop</td>\n    </tr>\n    <tr>\n      <th>9c6e990954a487d7d45582c063d8d9a4</th>\n      <td>Candados para Laptops</td>\n    </tr>\n    <tr>\n      <th>b138437686db9df7679b4f06a25dedfe</th>\n      <td>Laptops</td>\n    </tr>\n    <tr>\n      <th>c0f76673a512234802198bb1f1b9a846</th>\n      <td>Baterías para Laptop</td>\n    </tr>\n    <tr>\n      <th>cccb0dc73359070a4269f780fe93ff53</th>\n      <td>Laptops</td>\n    </tr>\n  </tbody>\n</table>\n</div>"
     },
     "execution_count": 41,
     "metadata": {},
     "output_type": "execute_result"
    }
   ],
   "source": [
    "query = \"\"\"\n",
    "    SELECT c.id, c.title\n",
    "    FROM categories as c\n",
    "    WHERE c.title LIKE '%laptop%'\n",
    "    -- LIMIT 10 OFFSET 0\n",
    "    \"\"\"\n",
    "result = cursor.execute(query)\n",
    "rows = result.fetchall()\n",
    "columns = [d[0] for d in result.description]\n",
    "df = pd.DataFrame(rows, columns=columns).set_index('id')\n",
    "df"
   ],
   "metadata": {
    "collapsed": false
   }
  },
  {
   "cell_type": "code",
   "execution_count": 39,
   "outputs": [
    {
     "data": {
      "text/plain": "                                                                              title  \\\nid                                                                                    \n003fbe72446c02844d35efc81e267ac3  Laptop HP 240 G8 14\" HD, Intel Celeron N4120 1...   \n005682561a75b01e41fca37c7a528121  Laptop Gamer Lenovo Legion 5 15ITH6 15.6\" Full...   \n005dd644b72e4c99a7ee4cf0cd8dd101  Laptop HP ProBook 640 G8 14\" HD, Intel Core i7...   \n00ac3477b6e4d1de40a8423793512c12  Laptop Lenovo Chromebook 14e 14\" Full HD, AMD ...   \n00bb604ed6d8014fc5d51796a097f2ca  Laptop Gateway GWTN141-6 14.1\" Full HD, Intel ...   \n016df6df2a9fdf7e71ef5c4c9dd9c4d0  Laptop Gamer XPG Xenia 14 14\" Full HD, Intel C...   \n01ac3abebed352d49dc3f8fc6f3d9da3  Laptop Gamer ASUS ROG Strix Scar 17 17.3\" Quad...   \n01b1895b3762a0298ff631d0ba4f392e  Laptop Dell Inspiron 5415 14\" Full HD, AMD Ryz...   \n01bad4dff5710244377274177106fceb  Laptop Lenovo ThinkPad T15 Gen 1 15.6\", Full H...   \n01f98e944db71129cfba07571ae35784  Laptop Lenovo ThinkPad L15 G2 15.6\" Full HD, I...   \n\n                                                      sku    price  stock  \\\nid                                                                          \n003fbe72446c02844d35efc81e267ac3                  6P146LA   7719.0      6   \n005682561a75b01e41fca37c7a528121               82JK00J7LM  25299.0      8   \n005dd644b72e4c99a7ee4cf0cd8dd101                  456W2LT  28359.0    168   \n00ac3477b6e4d1de40a8423793512c12               81MH000UPD   7479.0      0   \n00bb604ed6d8014fc5d51796a097f2ca              GWTN141-6BL   9419.0      0   \n016df6df2a9fdf7e71ef5c4c9dd9c4d0  XENIA14I7G11GXELX-BKCUS  23169.0    137   \n01ac3abebed352d49dc3f8fc6f3d9da3            G733ZX-LL091W  82319.0      1   \n01b1895b3762a0298ff631d0ba4f392e                 K912V-V2  19809.0      0   \n01bad4dff5710244377274177106fceb               20S7S8LW00  32429.0      0   \n01f98e944db71129cfba07571ae35784               20X4SBL900  27889.0      0   \n\n                                  created_at  \\\nid                                             \n003fbe72446c02844d35efc81e267ac3  2022-07-29   \n005682561a75b01e41fca37c7a528121  2022-04-14   \n005dd644b72e4c99a7ee4cf0cd8dd101  2022-06-16   \n00ac3477b6e4d1de40a8423793512c12  2023-01-02   \n00bb604ed6d8014fc5d51796a097f2ca  2021-11-26   \n016df6df2a9fdf7e71ef5c4c9dd9c4d0  2022-02-24   \n01ac3abebed352d49dc3f8fc6f3d9da3  2022-04-28   \n01b1895b3762a0298ff631d0ba4f392e  2022-08-19   \n01bad4dff5710244377274177106fceb  0000-00-00   \n01f98e944db71129cfba07571ae35784  2022-09-29   \n\n                                                                pic  \\\nid                                                                    \n003fbe72446c02844d35efc81e267ac3           CP-HP-6P146LA-812ac4.jpg   \n005682561a75b01e41fca37c7a528121    CP-LENOVO-82JK00J7LM-b20988.jpg   \n005dd644b72e4c99a7ee4cf0cd8dd101           CP-HP-456W2LT-037cf4.jpg   \n00ac3477b6e4d1de40a8423793512c12         CP-LENOVO-81MH000UPD-1.jpg   \n00bb604ed6d8014fc5d51796a097f2ca  CP-GATEWAY-GWTN141-6BL-973d8f.jpg   \n016df6df2a9fdf7e71ef5c4c9dd9c4d0                                      \n01ac3abebed352d49dc3f8fc6f3d9da3   CP-ASUS-G733ZX-LL091W-ad17b4.png   \n01b1895b3762a0298ff631d0ba4f392e             CP-DELL-K912V-V2-1.jpg   \n01bad4dff5710244377274177106fceb    CP-LENOVO-20S7S8LW00-13dd80.jpg   \n01f98e944db71129cfba07571ae35784    CP-LENOVO-20X4SBL900-17bad4.png   \n\n                                                   manufacturer_id   relevance  \nid                                                                              \n003fbe72446c02844d35efc81e267ac3  e6fc8ce107f2bdf0955f021a391514ce    0.448581  \n005682561a75b01e41fca37c7a528121  685903ef83f7a7c8a165f77eed160d9e    0.136754  \n005dd644b72e4c99a7ee4cf0cd8dd101  e6fc8ce107f2bdf0955f021a391514ce   12.498800  \n00ac3477b6e4d1de40a8423793512c12  685903ef83f7a7c8a165f77eed160d9e  -98.287900  \n00bb604ed6d8014fc5d51796a097f2ca  440cdde6c35c88ad8799575226adda15 -100.113000  \n016df6df2a9fdf7e71ef5c4c9dd9c4d0  17773c6a82fc40999707cd2c69f7d900   -0.070417  \n01ac3abebed352d49dc3f8fc6f3d9da3  5ed0b5f41b21804e51e82664dc24e2dd    0.170924  \n01b1895b3762a0298ff631d0ba4f392e  04c74ad625352f7093356e441ef69610  -99.465600  \n01bad4dff5710244377274177106fceb  685903ef83f7a7c8a165f77eed160d9e -100.727000  \n01f98e944db71129cfba07571ae35784  685903ef83f7a7c8a165f77eed160d9e  -99.271800  ",
      "text/html": "<div>\n<style scoped>\n    .dataframe tbody tr th:only-of-type {\n        vertical-align: middle;\n    }\n\n    .dataframe tbody tr th {\n        vertical-align: top;\n    }\n\n    .dataframe thead th {\n        text-align: right;\n    }\n</style>\n<table border=\"1\" class=\"dataframe\">\n  <thead>\n    <tr style=\"text-align: right;\">\n      <th></th>\n      <th>title</th>\n      <th>sku</th>\n      <th>price</th>\n      <th>stock</th>\n      <th>created_at</th>\n      <th>pic</th>\n      <th>manufacturer_id</th>\n      <th>relevance</th>\n    </tr>\n    <tr>\n      <th>id</th>\n      <th></th>\n      <th></th>\n      <th></th>\n      <th></th>\n      <th></th>\n      <th></th>\n      <th></th>\n      <th></th>\n    </tr>\n  </thead>\n  <tbody>\n    <tr>\n      <th>003fbe72446c02844d35efc81e267ac3</th>\n      <td>Laptop HP 240 G8 14\" HD, Intel Celeron N4120 1...</td>\n      <td>6P146LA</td>\n      <td>7719.0</td>\n      <td>6</td>\n      <td>2022-07-29</td>\n      <td>CP-HP-6P146LA-812ac4.jpg</td>\n      <td>e6fc8ce107f2bdf0955f021a391514ce</td>\n      <td>0.448581</td>\n    </tr>\n    <tr>\n      <th>005682561a75b01e41fca37c7a528121</th>\n      <td>Laptop Gamer Lenovo Legion 5 15ITH6 15.6\" Full...</td>\n      <td>82JK00J7LM</td>\n      <td>25299.0</td>\n      <td>8</td>\n      <td>2022-04-14</td>\n      <td>CP-LENOVO-82JK00J7LM-b20988.jpg</td>\n      <td>685903ef83f7a7c8a165f77eed160d9e</td>\n      <td>0.136754</td>\n    </tr>\n    <tr>\n      <th>005dd644b72e4c99a7ee4cf0cd8dd101</th>\n      <td>Laptop HP ProBook 640 G8 14\" HD, Intel Core i7...</td>\n      <td>456W2LT</td>\n      <td>28359.0</td>\n      <td>168</td>\n      <td>2022-06-16</td>\n      <td>CP-HP-456W2LT-037cf4.jpg</td>\n      <td>e6fc8ce107f2bdf0955f021a391514ce</td>\n      <td>12.498800</td>\n    </tr>\n    <tr>\n      <th>00ac3477b6e4d1de40a8423793512c12</th>\n      <td>Laptop Lenovo Chromebook 14e 14\" Full HD, AMD ...</td>\n      <td>81MH000UPD</td>\n      <td>7479.0</td>\n      <td>0</td>\n      <td>2023-01-02</td>\n      <td>CP-LENOVO-81MH000UPD-1.jpg</td>\n      <td>685903ef83f7a7c8a165f77eed160d9e</td>\n      <td>-98.287900</td>\n    </tr>\n    <tr>\n      <th>00bb604ed6d8014fc5d51796a097f2ca</th>\n      <td>Laptop Gateway GWTN141-6 14.1\" Full HD, Intel ...</td>\n      <td>GWTN141-6BL</td>\n      <td>9419.0</td>\n      <td>0</td>\n      <td>2021-11-26</td>\n      <td>CP-GATEWAY-GWTN141-6BL-973d8f.jpg</td>\n      <td>440cdde6c35c88ad8799575226adda15</td>\n      <td>-100.113000</td>\n    </tr>\n    <tr>\n      <th>016df6df2a9fdf7e71ef5c4c9dd9c4d0</th>\n      <td>Laptop Gamer XPG Xenia 14 14\" Full HD, Intel C...</td>\n      <td>XENIA14I7G11GXELX-BKCUS</td>\n      <td>23169.0</td>\n      <td>137</td>\n      <td>2022-02-24</td>\n      <td></td>\n      <td>17773c6a82fc40999707cd2c69f7d900</td>\n      <td>-0.070417</td>\n    </tr>\n    <tr>\n      <th>01ac3abebed352d49dc3f8fc6f3d9da3</th>\n      <td>Laptop Gamer ASUS ROG Strix Scar 17 17.3\" Quad...</td>\n      <td>G733ZX-LL091W</td>\n      <td>82319.0</td>\n      <td>1</td>\n      <td>2022-04-28</td>\n      <td>CP-ASUS-G733ZX-LL091W-ad17b4.png</td>\n      <td>5ed0b5f41b21804e51e82664dc24e2dd</td>\n      <td>0.170924</td>\n    </tr>\n    <tr>\n      <th>01b1895b3762a0298ff631d0ba4f392e</th>\n      <td>Laptop Dell Inspiron 5415 14\" Full HD, AMD Ryz...</td>\n      <td>K912V-V2</td>\n      <td>19809.0</td>\n      <td>0</td>\n      <td>2022-08-19</td>\n      <td>CP-DELL-K912V-V2-1.jpg</td>\n      <td>04c74ad625352f7093356e441ef69610</td>\n      <td>-99.465600</td>\n    </tr>\n    <tr>\n      <th>01bad4dff5710244377274177106fceb</th>\n      <td>Laptop Lenovo ThinkPad T15 Gen 1 15.6\", Full H...</td>\n      <td>20S7S8LW00</td>\n      <td>32429.0</td>\n      <td>0</td>\n      <td>0000-00-00</td>\n      <td>CP-LENOVO-20S7S8LW00-13dd80.jpg</td>\n      <td>685903ef83f7a7c8a165f77eed160d9e</td>\n      <td>-100.727000</td>\n    </tr>\n    <tr>\n      <th>01f98e944db71129cfba07571ae35784</th>\n      <td>Laptop Lenovo ThinkPad L15 G2 15.6\" Full HD, I...</td>\n      <td>20X4SBL900</td>\n      <td>27889.0</td>\n      <td>0</td>\n      <td>2022-09-29</td>\n      <td>CP-LENOVO-20X4SBL900-17bad4.png</td>\n      <td>685903ef83f7a7c8a165f77eed160d9e</td>\n      <td>-99.271800</td>\n    </tr>\n  </tbody>\n</table>\n</div>"
     },
     "execution_count": 39,
     "metadata": {},
     "output_type": "execute_result"
    }
   ],
   "source": [
    "query = \"\"\"\n",
    "    SELECT a.*\n",
    "    FROM articles as a\n",
    "    JOIN articles_categories as ac on ac.article_id = a.id\n",
    "    JOIN categories as c on ac.category_id = c.id\n",
    "    WHERE c.id = 'cccb0dc73359070a4269f780fe93ff53'\n",
    "    LIMIT 10 OFFSET 0\n",
    "    \"\"\"\n",
    "result = cursor.execute(query)\n",
    "rows = result.fetchall()\n",
    "columns = [d[0] for d in result.description]\n",
    "df = pd.DataFrame(rows, columns=columns).set_index('id')\n",
    "df"
   ],
   "metadata": {
    "collapsed": false
   }
  },
  {
   "cell_type": "code",
   "execution_count": null,
   "outputs": [],
   "source": [],
   "metadata": {
    "collapsed": false
   }
  }
 ],
 "metadata": {
  "kernelspec": {
   "display_name": "Python 3",
   "language": "python",
   "name": "python3"
  },
  "language_info": {
   "codemirror_mode": {
    "name": "ipython",
    "version": 2
   },
   "file_extension": ".py",
   "mimetype": "text/x-python",
   "name": "python",
   "nbconvert_exporter": "python",
   "pygments_lexer": "ipython2",
   "version": "2.7.6"
  }
 },
 "nbformat": 4,
 "nbformat_minor": 0
}

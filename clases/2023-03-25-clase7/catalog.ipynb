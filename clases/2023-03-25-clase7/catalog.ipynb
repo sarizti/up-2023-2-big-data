{
 "cells": [
  {
   "cell_type": "markdown",
   "source": [
    "# Big Data\n",
    "\n",
    "Using Sqlite3 with Python and Jupyter Notebooks in PyCharm.\n",
    "\n",
    "Requirements:\n",
    "\n",
    "- have `python3` available in your computer. If not available yet, install from <https://python.org>\n",
    "- make sure `pip` is in its latest version `python3 -m pip install --upgrade pip`.\n",
    "- make sure you have `pipenv` to manage dependencies `python3 -m pip install --upgrade pipenv`.\n",
    "- create a folder in your computer and open it with PyCharm.\n",
    "- in the terminal run `pipenv shell`, this creates a `Pipenv` file that remembers your dependencies.\n",
    "- in PyCharm go to *settings* > *project* > *python interpreter* and add the one created by pipenv.\n",
    "- Now your project should be using the python environment that we just configured.\n",
    "\n",
    "For this step you need to already have installed `gdown` with\n",
    "\n",
    "```shell\n",
    "pipenv install gdown\n",
    "```\n",
    "\n",
    "And `pandas` with\n",
    "\n",
    "```shell\n",
    "pipenv install pandas\n",
    "```\n",
    "\n",
    "Of course, you need to also have installed jupyter\n",
    "\n",
    "```shell\n",
    "pipenv install jupyter\n",
    "```\n",
    "\n",
    "The library `sqlite3` is bundled in with python."
   ],
   "metadata": {
    "collapsed": false
   }
  },
  {
   "cell_type": "code",
   "execution_count": null,
   "metadata": {
    "collapsed": true
   },
   "outputs": [],
   "source": [
    "import gdown\n",
    "import pandas as pd\n",
    "import sqlite3\n",
    "import os"
   ]
  },
  {
   "cell_type": "markdown",
   "source": [
    "Let's now download the 'catalog' database found in Google Drive.\n",
    "\n"
   ],
   "metadata": {
    "collapsed": false
   }
  },
  {
   "cell_type": "code",
   "execution_count": null,
   "outputs": [],
   "source": [
    "output = 'catalog.sqlite3'\n",
    "if not os.path.isfile(output):\n",
    "    gdown.download(id='1d7O3-wOTt9tRtBUL4ZMZeEt2ZBMMGsJq', output=output)"
   ],
   "metadata": {
    "collapsed": false
   }
  },
  {
   "cell_type": "code",
   "execution_count": null,
   "outputs": [],
   "source": [
    "connection = sqlite3.connect('catalog.sqlite3')\n",
    "cursor = connection.cursor()"
   ],
   "metadata": {
    "collapsed": false
   }
  },
  {
   "cell_type": "code",
   "execution_count": null,
   "outputs": [],
   "source": [
    "query = \"\"\"\n",
    "    SELECT *\n",
    "    FROM categories\n",
    "    LIMIT 10\n",
    "    \"\"\"\n",
    "result = cursor.execute(query)\n",
    "rows = result.fetchall()\n",
    "columns = [d[0] for d in result.description]\n",
    "df = pd.DataFrame(rows, columns=columns).set_index('id')"
   ],
   "metadata": {
    "collapsed": false
   }
  },
  {
   "cell_type": "code",
   "execution_count": null,
   "outputs": [],
   "source": [
    "df"
   ],
   "metadata": {
    "collapsed": false
   }
  },
  {
   "cell_type": "code",
   "execution_count": null,
   "outputs": [],
   "source": [
    "{'a': 1} | {'b': 2}\n"
   ],
   "metadata": {
    "collapsed": false
   }
  },
  {
   "cell_type": "code",
   "execution_count": null,
   "outputs": [],
   "source": [],
   "metadata": {
    "collapsed": false
   }
  }
 ],
 "metadata": {
  "kernelspec": {
   "display_name": "Python 3",
   "language": "python",
   "name": "python3"
  },
  "language_info": {
   "codemirror_mode": {
    "name": "ipython",
    "version": 2
   },
   "file_extension": ".py",
   "mimetype": "text/x-python",
   "name": "python",
   "nbconvert_exporter": "python",
   "pygments_lexer": "ipython2",
   "version": "2.7.6"
  }
 },
 "nbformat": 4,
 "nbformat_minor": 0
}

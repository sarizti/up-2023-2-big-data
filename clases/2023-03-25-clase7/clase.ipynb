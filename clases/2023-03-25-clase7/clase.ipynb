{
 "cells": [
  {
   "cell_type": "code",
   "execution_count": null,
   "metadata": {
    "collapsed": true
   },
   "outputs": [],
   "source": [
    "import pandas as pd\n",
    "import sqlite3\n"
   ]
  },
  {
   "cell_type": "code",
   "execution_count": null,
   "outputs": [],
   "source": [
    "connection = sqlite3.connect(':memory:')\n",
    "cursor = connection.cursor()"
   ],
   "metadata": {
    "collapsed": false
   }
  },
  {
   "cell_type": "code",
   "execution_count": null,
   "outputs": [],
   "source": [
    "create_tables = open('../2023-03-18-clase6/sql/create_tables.sql').read()\n",
    "cursor.executescript(create_tables)\n",
    "connection.commit()\n",
    "insert_into = open('../2023-03-18-clase6/sql/insert_into.sql').read()\n",
    "cursor.executescript(insert_into)\n",
    "connection.commit()\n"
   ],
   "metadata": {
    "collapsed": false
   }
  },
  {
   "cell_type": "code",
   "execution_count": null,
   "outputs": [],
   "source": [
    "q = \"\"\"\n",
    "SELECT\n",
    "    students.id as \"ID\",\n",
    "    students.name || ' ' || students.last_name AS \"Estudiante\",\n",
    "    enrollments.grade AS \"Calificación\",\n",
    "    courses.semester AS \"Semestre\",\n",
    "    CASE t.degree WHEN 'doctorate' THEN 'Dr.' WHEN 'masters' THEN 'Mtro.' ELSE 'Lic.' END\n",
    "        || ' ' || t.name || ' ' || t.last_name\n",
    "        AS \"Profesor\",\n",
    "    classes.name || ' (' || classes.school || ')' AS \"Clase\"\n",
    "FROM enrollments\n",
    "INNER JOIN students ON enrollments.student_id = students.id\n",
    "INNER JOIN courses ON enrollments.course_id = courses.id\n",
    "INNER JOIN teachers AS t ON courses.teacher_id = t.id\n",
    "INNER JOIN classes ON courses.class_id = classes.id\n",
    "\"\"\"\n",
    "result = cursor.execute(q)\n",
    "rows = result.fetchall()\n",
    "columns = [d[0] for d in result.description]\n",
    "df = pd.DataFrame(rows, columns=columns).set_index('ID')\n",
    "df\n"
   ],
   "metadata": {
    "collapsed": false
   }
  },
  {
   "cell_type": "code",
   "execution_count": null,
   "outputs": [],
   "source": [
    "q = \"\"\"\n",
    "SELECT *\n",
    "FROM students\n",
    "ORDER BY date_of_birth\n",
    "\"\"\"\n",
    "result = cursor.execute(q)\n",
    "rows = result.fetchall()\n",
    "columns = [d[0] for d in result.description]\n",
    "df = pd.DataFrame(rows, columns=columns).set_index('id')\n",
    "# df.date_of_birth = pd.to_datetime(df.date_of_birth)\n",
    "df\n"
   ],
   "metadata": {
    "collapsed": false
   }
  },
  {
   "cell_type": "code",
   "execution_count": null,
   "outputs": [],
   "source": [],
   "metadata": {
    "collapsed": false
   }
  }
 ],
 "metadata": {
  "kernelspec": {
   "display_name": "Python 3",
   "language": "python",
   "name": "python3"
  },
  "language_info": {
   "codemirror_mode": {
    "name": "ipython",
    "version": 2
   },
   "file_extension": ".py",
   "mimetype": "text/x-python",
   "name": "python",
   "nbconvert_exporter": "python",
   "pygments_lexer": "ipython2",
   "version": "2.7.6"
  }
 },
 "nbformat": 4,
 "nbformat_minor": 0
}
